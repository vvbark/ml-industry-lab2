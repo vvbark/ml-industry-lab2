{
 "cells": [
  {
   "cell_type": "code",
   "execution_count": 1,
   "id": "6884414a",
   "metadata": {},
   "outputs": [],
   "source": [
    "from src import AEFeatureExtractor\n",
    "\n",
    "import pandas as pd\n",
    "import numpy as np"
   ]
  },
  {
   "cell_type": "code",
   "execution_count": 2,
   "id": "49610986",
   "metadata": {},
   "outputs": [],
   "source": [
    "data = pd.read_pickle('./annotation_pandas.pickle')\n",
    "data = data[data['image'].apply(lambda item: item.shape) == (98, 67, 3)].set_index('id')\n",
    "genres = np.sort(data['genre'].unique())"
   ]
  },
  {
   "cell_type": "code",
   "execution_count": 3,
   "id": "3228851f",
   "metadata": {},
   "outputs": [],
   "source": [
    "extractor = AEFeatureExtractor('./models/cnnAE.config')"
   ]
  },
  {
   "cell_type": "code",
   "execution_count": 6,
   "id": "250148a7",
   "metadata": {},
   "outputs": [
    {
     "name": "stdout",
     "output_type": "stream",
     "text": [
      "CPU times: total: 2min 32s\n",
      "Wall time: 19 s\n"
     ]
    }
   ],
   "source": [
    "%%time\n",
    "features = data['image'].apply(extractor)\n",
    "features = pd.DataFrame(\n",
    "    data=np.array([feature for feature in features]),\n",
    "    columns=[f'conv_{i}' for i in range(24)],\n",
    "    index=data.index,\n",
    ")"
   ]
  },
  {
   "cell_type": "code",
   "execution_count": 8,
   "id": "ca3f0222",
   "metadata": {},
   "outputs": [],
   "source": [
    "features.to_pickle('./data/conv_features.pickle')"
   ]
  },
  {
   "cell_type": "code",
   "execution_count": null,
   "id": "6fe1b719",
   "metadata": {},
   "outputs": [],
   "source": []
  }
 ],
 "metadata": {
  "kernelspec": {
   "display_name": "Python 3 (ipykernel)",
   "language": "python",
   "name": "python3"
  },
  "language_info": {
   "codemirror_mode": {
    "name": "ipython",
    "version": 3
   },
   "file_extension": ".py",
   "mimetype": "text/x-python",
   "name": "python",
   "nbconvert_exporter": "python",
   "pygments_lexer": "ipython3",
   "version": "3.9.13"
  }
 },
 "nbformat": 4,
 "nbformat_minor": 5
}
