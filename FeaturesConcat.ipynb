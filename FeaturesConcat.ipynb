{
 "cells": [
  {
   "cell_type": "code",
   "execution_count": 3,
   "id": "74ba1381",
   "metadata": {},
   "outputs": [],
   "source": [
    "import pandas as pd"
   ]
  },
  {
   "cell_type": "code",
   "execution_count": 4,
   "id": "2e54fece",
   "metadata": {},
   "outputs": [],
   "source": [
    "test_dataset = pd.read_csv('./data/test_dataset.csv')\n",
    "train_dataset = pd.read_csv('./data/train_dataset.csv')\n",
    "test_preds = pd.read_csv('./data/test_preds.csv')\n",
    "train_preds = pd.read_csv('./data/train_preds.csv')\n",
    "\n",
    "conv_features = pd.read_pickle('./data/conv_features.pickle')"
   ]
  },
  {
   "cell_type": "code",
   "execution_count": 9,
   "id": "bc83f091",
   "metadata": {},
   "outputs": [
    {
     "name": "stdout",
     "output_type": "stream",
     "text": [
      "(6507, 32)\n",
      "(6470, 56)\n"
     ]
    }
   ],
   "source": [
    "dataset = pd.concat([test_dataset, train_dataset], axis=0)\n",
    "preds = pd.concat([test_preds, train_preds], axis=0)\n",
    "preds.columns = [f'nlp_feature_{col}' for col in preds.columns]\n",
    "df = pd.concat([dataset, preds],axis=1)\n",
    "print(df.shape)\n",
    "df = df.merge(conv_features, left_on='id', right_index=True, how='inner')\n",
    "print(df.shape)"
   ]
  },
  {
   "cell_type": "code",
   "execution_count": 11,
   "id": "07a2b228",
   "metadata": {},
   "outputs": [],
   "source": [
    "df.to_pickle('./data/featured_dataset.pickle')"
   ]
  },
  {
   "cell_type": "code",
   "execution_count": null,
   "id": "59b34bae",
   "metadata": {},
   "outputs": [],
   "source": []
  }
 ],
 "metadata": {
  "kernelspec": {
   "display_name": "Python 3 (ipykernel)",
   "language": "python",
   "name": "python3"
  },
  "language_info": {
   "codemirror_mode": {
    "name": "ipython",
    "version": 3
   },
   "file_extension": ".py",
   "mimetype": "text/x-python",
   "name": "python",
   "nbconvert_exporter": "python",
   "pygments_lexer": "ipython3",
   "version": "3.9.13"
  }
 },
 "nbformat": 4,
 "nbformat_minor": 5
}
