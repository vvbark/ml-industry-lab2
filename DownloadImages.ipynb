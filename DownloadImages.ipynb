{
 "cells": [
  {
   "cell_type": "code",
   "execution_count": 1,
   "id": "03d1862c",
   "metadata": {},
   "outputs": [],
   "source": [
    "import pandas as pd\n",
    "import numpy as np\n",
    "import matplotlib.pyplot as plt\n",
    "import skimage\n",
    "from tqdm.notebook import tqdm\n",
    "\n",
    "def get_image(image_url: str) -> np.ndarray:\n",
    "    return skimage.io.imread(image_url)"
   ]
  },
  {
   "cell_type": "code",
   "execution_count": 2,
   "id": "717ca63f",
   "metadata": {
    "scrolled": true
   },
   "outputs": [
    {
     "data": {
      "application/vnd.jupyter.widget-view+json": {
       "model_id": "23c4dc7910e84ab1a23fea3d45b7a036",
       "version_major": 2,
       "version_minor": 0
      },
      "text/plain": [
       "  0%|          | 0/6509 [00:00<?, ?it/s]"
      ]
     },
     "metadata": {},
     "output_type": "display_data"
    }
   ],
   "source": [
    "annotation = pd.read_csv('./movies_with_descriptions.csv').drop(columns=['Unnamed: 0'])\n",
    "images = []\n",
    "for url in tqdm(annotation['poster']):\n",
    "    images.append(get_image(url))"
   ]
  },
  {
   "cell_type": "code",
   "execution_count": 3,
   "id": "46afa288",
   "metadata": {},
   "outputs": [],
   "source": [
    "annotation['image'] = pd.Series(images, index=annotation.index)"
   ]
  },
  {
   "cell_type": "code",
   "execution_count": 4,
   "id": "a82e9cea",
   "metadata": {},
   "outputs": [],
   "source": [
    "annotation.to_pickle('annotation_pandas.pickle')"
   ]
  },
  {
   "cell_type": "code",
   "execution_count": null,
   "id": "214a1e8c",
   "metadata": {},
   "outputs": [],
   "source": []
  },
  {
   "cell_type": "code",
   "execution_count": null,
   "id": "f8b5f11d",
   "metadata": {},
   "outputs": [],
   "source": []
  },
  {
   "cell_type": "code",
   "execution_count": 7,
   "id": "fca4a21d",
   "metadata": {},
   "outputs": [],
   "source": [
    "import skimage\n",
    "\n",
    "    \n",
    "class FilmGenrePrediction:\n",
    "    \n",
    "    def __init__(\n",
    "        self,\n",
    "        name: str,\n",
    "        description: str,\n",
    "        poster_url: str,\n",
    "    ):\n",
    "        self._name = name\n",
    "        self._description = description\n",
    "        self._poster_url\n",
    "        \n",
    "    @property\n",
    "    def poster(self) -> np.ndarray:\n",
    "        return skimage.io.imread(self._poster_url)\n",
    "    \n",
    "    def extract_image_features"
   ]
  },
  {
   "cell_type": "code",
   "execution_count": null,
   "id": "b82250b9",
   "metadata": {},
   "outputs": [],
   "source": []
  },
  {
   "cell_type": "code",
   "execution_count": null,
   "id": "3aabebd3",
   "metadata": {},
   "outputs": [],
   "source": []
  }
 ],
 "metadata": {
  "kernelspec": {
   "display_name": "Python 3 (ipykernel)",
   "language": "python",
   "name": "python3"
  },
  "language_info": {
   "codemirror_mode": {
    "name": "ipython",
    "version": 3
   },
   "file_extension": ".py",
   "mimetype": "text/x-python",
   "name": "python",
   "nbconvert_exporter": "python",
   "pygments_lexer": "ipython3",
   "version": "3.9.13"
  }
 },
 "nbformat": 4,
 "nbformat_minor": 5
}
