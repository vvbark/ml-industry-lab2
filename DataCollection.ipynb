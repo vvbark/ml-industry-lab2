{
 "cells": [
  {
   "cell_type": "code",
   "execution_count": 2,
   "id": "9cf0bb21",
   "metadata": {},
   "outputs": [],
   "source": [
    "import pandas as pd\n",
    "import numpy as np\n",
    "import matplotlib.pyplot as plt\n",
    "import warnings\n",
    "from PyMovieDb import IMDB\n",
    "import json\n",
    "from tqdm import tqdm\n",
    "import requests\n",
    "from bs4 import BeautifulSoup\n",
    "\n",
    "plt.rc('figure', figsize=(15, 10))\n",
    "plt.rc('font', size=16)\n",
    "warnings.filterwarnings('ignore')"
   ]
  },
  {
   "cell_type": "code",
   "execution_count": 2,
   "id": "87cf5605",
   "metadata": {},
   "outputs": [],
   "source": [
    "genres = [\n",
    "    'Action',\n",
    "    'Adventure',\n",
    "    'Animation',\n",
    "    'Biography',\n",
    "    'Comedy',\n",
    "    'Crime',\n",
    "    'Documentary',\n",
    "    'Drama',\n",
    "    'Family',\n",
    "    'Fantasy',\n",
    "    'Film Noir',\n",
    "    'History',\n",
    "    'Horror',\n",
    "    'Music',\n",
    "    'Musical',\n",
    "    'Mystery',\n",
    "    'Romance',\n",
    "    'Sci-Fi',\n",
    "    'Short Film',\n",
    "    'Sport',\n",
    "    'Superhero',\n",
    "    'Thriller',\n",
    "    'War',\n",
    "    'Western'\n",
    "]\n",
    "\n",
    "max_requests = 50\n",
    "processed_ids = set()\n",
    "imdb = IMDB()"
   ]
  },
  {
   "cell_type": "code",
   "execution_count": 19,
   "id": "6bae44b5",
   "metadata": {},
   "outputs": [],
   "source": [
    "def get_genre_movies(genre, max_requests=max_requests):\n",
    "    res = pd.DataFrame()\n",
    "    i = 0\n",
    "    while len(res) <= 250 and i < max_requests:\n",
    "        try:\n",
    "            movies = imdb.popular_movies(genre=genre, start_id=i*50+1)\n",
    "            res = res.append(json.loads(movies)['results'], ignore_index=True)\n",
    "            res = res[~res['id'].isin(processed_ids)]\n",
    "        except Exception as e:\n",
    "            print(e)\n",
    "        i += 1\n",
    "    processed_ids.update(res['id'].to_list())\n",
    "    res['genre'] = genre\n",
    "    return res\n",
    "\n",
    "def get_all_movies(genres):\n",
    "    df = pd.DataFrame()\n",
    "    for genre in tqdm(genres, desc='genres'):\n",
    "        df = df.append(get_genre_movies(genre), ignore_index=True)\n",
    "    return df"
   ]
  },
  {
   "cell_type": "code",
   "execution_count": 109,
   "id": "7b7ddc24",
   "metadata": {},
   "outputs": [
    {
     "name": "stderr",
     "output_type": "stream",
     "text": [
      "genres: 100%|███████████████████████████████████| 24/24 [14:19<00:00, 35.80s/it]\n"
     ]
    }
   ],
   "source": [
    "df = get_all_movies(genres)"
   ]
  },
  {
   "cell_type": "code",
   "execution_count": 114,
   "id": "69394723",
   "metadata": {},
   "outputs": [],
   "source": [
    "df.to_csv('movies_draft.csv')"
   ]
  },
  {
   "cell_type": "code",
   "execution_count": 5,
   "id": "26a93d31",
   "metadata": {},
   "outputs": [],
   "source": [
    "df = pd.read_csv('movies_draft.csv', index_col=0)"
   ]
  },
  {
   "cell_type": "code",
   "execution_count": 6,
   "id": "b432e4f1",
   "metadata": {},
   "outputs": [
    {
     "data": {
      "text/html": [
       "<div>\n",
       "<style scoped>\n",
       "    .dataframe tbody tr th:only-of-type {\n",
       "        vertical-align: middle;\n",
       "    }\n",
       "\n",
       "    .dataframe tbody tr th {\n",
       "        vertical-align: top;\n",
       "    }\n",
       "\n",
       "    .dataframe thead th {\n",
       "        text-align: right;\n",
       "    }\n",
       "</style>\n",
       "<table border=\"1\" class=\"dataframe\">\n",
       "  <thead>\n",
       "    <tr style=\"text-align: right;\">\n",
       "      <th></th>\n",
       "      <th>id</th>\n",
       "      <th>name</th>\n",
       "      <th>year</th>\n",
       "      <th>url</th>\n",
       "      <th>poster</th>\n",
       "      <th>genre</th>\n",
       "    </tr>\n",
       "  </thead>\n",
       "  <tbody>\n",
       "    <tr>\n",
       "      <th>0</th>\n",
       "      <td>tt1016150</td>\n",
       "      <td>Im Westen nichts Neues</td>\n",
       "      <td>2022.0</td>\n",
       "      <td>https://www.imdb.com/title/tt1016150/?ref_=adv...</td>\n",
       "      <td>https://m.media-amazon.com/images/M/MV5BYTE1Mm...</td>\n",
       "      <td>Action</td>\n",
       "    </tr>\n",
       "    <tr>\n",
       "      <th>1</th>\n",
       "      <td>tt6443346</td>\n",
       "      <td>Qora Adam</td>\n",
       "      <td>2022.0</td>\n",
       "      <td>https://www.imdb.com/title/tt6443346/?ref_=adv...</td>\n",
       "      <td>https://m.media-amazon.com/images/M/MV5BYzZkOG...</td>\n",
       "      <td>Action</td>\n",
       "    </tr>\n",
       "    <tr>\n",
       "      <th>2</th>\n",
       "      <td>tt1630029</td>\n",
       "      <td>Avatar: The Way of Water</td>\n",
       "      <td>2022.0</td>\n",
       "      <td>https://www.imdb.com/title/tt1630029/?ref_=adv...</td>\n",
       "      <td>https://m.media-amazon.com/images/M/MV5BM2VhYj...</td>\n",
       "      <td>Action</td>\n",
       "    </tr>\n",
       "    <tr>\n",
       "      <th>3</th>\n",
       "      <td>tt9114286</td>\n",
       "      <td>Qora Pantera 2</td>\n",
       "      <td>2022.0</td>\n",
       "      <td>https://www.imdb.com/title/tt9114286/?ref_=adv...</td>\n",
       "      <td>https://m.media-amazon.com/images/M/MV5BNTM4Nj...</td>\n",
       "      <td>Action</td>\n",
       "    </tr>\n",
       "    <tr>\n",
       "      <th>4</th>\n",
       "      <td>tt14641788</td>\n",
       "      <td>Enola Holmes 2</td>\n",
       "      <td>2022.0</td>\n",
       "      <td>https://www.imdb.com/title/tt14641788/?ref_=ad...</td>\n",
       "      <td>https://m.media-amazon.com/images/M/MV5BMDI1NW...</td>\n",
       "      <td>Action</td>\n",
       "    </tr>\n",
       "    <tr>\n",
       "      <th>...</th>\n",
       "      <td>...</td>\n",
       "      <td>...</td>\n",
       "      <td>...</td>\n",
       "      <td>...</td>\n",
       "      <td>...</td>\n",
       "      <td>...</td>\n",
       "    </tr>\n",
       "    <tr>\n",
       "      <th>6245</th>\n",
       "      <td>tt0049593</td>\n",
       "      <td>Pardners</td>\n",
       "      <td>1956.0</td>\n",
       "      <td>https://www.imdb.com/title/tt0049593/?ref_=adv...</td>\n",
       "      <td>https://m.media-amazon.com/images/M/MV5BZDYyZm...</td>\n",
       "      <td>Western</td>\n",
       "    </tr>\n",
       "    <tr>\n",
       "      <th>6246</th>\n",
       "      <td>tt0050923</td>\n",
       "      <td>Saddle the Wind</td>\n",
       "      <td>1958.0</td>\n",
       "      <td>https://www.imdb.com/title/tt0050923/?ref_=adv...</td>\n",
       "      <td>https://m.media-amazon.com/images/M/MV5BOTEyND...</td>\n",
       "      <td>Western</td>\n",
       "    </tr>\n",
       "    <tr>\n",
       "      <th>6247</th>\n",
       "      <td>tt0065026</td>\n",
       "      <td>Gli specialisti</td>\n",
       "      <td>1969.0</td>\n",
       "      <td>https://www.imdb.com/title/tt0065026/?ref_=adv...</td>\n",
       "      <td>https://m.media-amazon.com/images/M/MV5BZGQxNW...</td>\n",
       "      <td>Western</td>\n",
       "    </tr>\n",
       "    <tr>\n",
       "      <th>6248</th>\n",
       "      <td>tt0064379</td>\n",
       "      <td>The Good Guys and the Bad Guys</td>\n",
       "      <td>1969.0</td>\n",
       "      <td>https://www.imdb.com/title/tt0064379/?ref_=adv...</td>\n",
       "      <td>https://m.media-amazon.com/images/M/MV5BZGIxMD...</td>\n",
       "      <td>Western</td>\n",
       "    </tr>\n",
       "    <tr>\n",
       "      <th>6249</th>\n",
       "      <td>tt0049881</td>\n",
       "      <td>Tribute to a Bad Man</td>\n",
       "      <td>1956.0</td>\n",
       "      <td>https://www.imdb.com/title/tt0049881/?ref_=adv...</td>\n",
       "      <td>https://m.media-amazon.com/images/M/MV5BMGYwOD...</td>\n",
       "      <td>Western</td>\n",
       "    </tr>\n",
       "  </tbody>\n",
       "</table>\n",
       "<p>6250 rows × 6 columns</p>\n",
       "</div>"
      ],
      "text/plain": [
       "              id                            name    year  \\\n",
       "0      tt1016150          Im Westen nichts Neues  2022.0   \n",
       "1      tt6443346                       Qora Adam  2022.0   \n",
       "2      tt1630029        Avatar: The Way of Water  2022.0   \n",
       "3      tt9114286                  Qora Pantera 2  2022.0   \n",
       "4     tt14641788                  Enola Holmes 2  2022.0   \n",
       "...          ...                             ...     ...   \n",
       "6245   tt0049593                        Pardners  1956.0   \n",
       "6246   tt0050923                 Saddle the Wind  1958.0   \n",
       "6247   tt0065026                 Gli specialisti  1969.0   \n",
       "6248   tt0064379  The Good Guys and the Bad Guys  1969.0   \n",
       "6249   tt0049881            Tribute to a Bad Man  1956.0   \n",
       "\n",
       "                                                    url  \\\n",
       "0     https://www.imdb.com/title/tt1016150/?ref_=adv...   \n",
       "1     https://www.imdb.com/title/tt6443346/?ref_=adv...   \n",
       "2     https://www.imdb.com/title/tt1630029/?ref_=adv...   \n",
       "3     https://www.imdb.com/title/tt9114286/?ref_=adv...   \n",
       "4     https://www.imdb.com/title/tt14641788/?ref_=ad...   \n",
       "...                                                 ...   \n",
       "6245  https://www.imdb.com/title/tt0049593/?ref_=adv...   \n",
       "6246  https://www.imdb.com/title/tt0050923/?ref_=adv...   \n",
       "6247  https://www.imdb.com/title/tt0065026/?ref_=adv...   \n",
       "6248  https://www.imdb.com/title/tt0064379/?ref_=adv...   \n",
       "6249  https://www.imdb.com/title/tt0049881/?ref_=adv...   \n",
       "\n",
       "                                                 poster    genre  \n",
       "0     https://m.media-amazon.com/images/M/MV5BYTE1Mm...   Action  \n",
       "1     https://m.media-amazon.com/images/M/MV5BYzZkOG...   Action  \n",
       "2     https://m.media-amazon.com/images/M/MV5BM2VhYj...   Action  \n",
       "3     https://m.media-amazon.com/images/M/MV5BNTM4Nj...   Action  \n",
       "4     https://m.media-amazon.com/images/M/MV5BMDI1NW...   Action  \n",
       "...                                                 ...      ...  \n",
       "6245  https://m.media-amazon.com/images/M/MV5BZDYyZm...  Western  \n",
       "6246  https://m.media-amazon.com/images/M/MV5BOTEyND...  Western  \n",
       "6247  https://m.media-amazon.com/images/M/MV5BZGQxNW...  Western  \n",
       "6248  https://m.media-amazon.com/images/M/MV5BZGIxMD...  Western  \n",
       "6249  https://m.media-amazon.com/images/M/MV5BMGYwOD...  Western  \n",
       "\n",
       "[6250 rows x 6 columns]"
      ]
     },
     "execution_count": 6,
     "metadata": {},
     "output_type": "execute_result"
    }
   ],
   "source": [
    "df"
   ]
  },
  {
   "cell_type": "code",
   "execution_count": 9,
   "id": "4994a693",
   "metadata": {},
   "outputs": [],
   "source": [
    "df['description'] = None"
   ]
  },
  {
   "cell_type": "markdown",
   "id": "511761ed",
   "metadata": {},
   "source": [
    "### Tries to get movies description. First - using PyMovieDb, second - using requests + BeautifulSoup"
   ]
  },
  {
   "cell_type": "code",
   "execution_count": 25,
   "id": "dd2eb16c",
   "metadata": {},
   "outputs": [
    {
     "name": "stderr",
     "output_type": "stream",
     "text": [
      "movies: 100%|█████████████████████████████| 6250/6250 [3:43:38<00:00,  2.15s/it]\n"
     ]
    }
   ],
   "source": [
    "for i in tqdm(range(len(df)), desc='movies'):\n",
    "    if df.loc[i, 'description'] is None:\n",
    "        df.loc[i, 'description'] = json.loads(imdb.get_by_id(df.loc[i, 'id'])).get('description', None)"
   ]
  },
  {
   "cell_type": "code",
   "execution_count": 26,
   "id": "ce92f33c",
   "metadata": {},
   "outputs": [],
   "source": [
    "df.to_csv('movies_with_descriptions.csv')"
   ]
  },
  {
   "cell_type": "code",
   "execution_count": 76,
   "id": "e27449eb",
   "metadata": {},
   "outputs": [
    {
     "name": "stderr",
     "output_type": "stream",
     "text": [
      "movies: 100%|█████████████████████████████| 6250/6250 [1:27:30<00:00,  1.19it/s]\n"
     ]
    }
   ],
   "source": [
    "for i in tqdm(range(len(df)), desc='movies'):\n",
    "    if df.loc[i, 'description'] is None:\n",
    "        soup = BeautifulSoup(requests.get(df.loc[i, 'url']).text)\n",
    "        df.loc[i, 'description'] = soup.find('meta', {'name': 'description'}).get('content', None)"
   ]
  },
  {
   "cell_type": "code",
   "execution_count": 77,
   "id": "79b3bcaf",
   "metadata": {},
   "outputs": [],
   "source": [
    "df.to_csv('movies_with_descriptions.csv')"
   ]
  },
  {
   "cell_type": "code",
   "execution_count": 3,
   "id": "023f16c3",
   "metadata": {},
   "outputs": [],
   "source": [
    "df = pd.read_csv('movies_with_descriptions.csv', index_col=0)"
   ]
  },
  {
   "cell_type": "code",
   "execution_count": 7,
   "id": "728d8992",
   "metadata": {},
   "outputs": [
    {
     "data": {
      "text/plain": [
       "'https://m.media-amazon.com/images/M/MV5BNWJlNzA4OGQtYjJjNS00ZDljLTgwOGEtYzU4ODhiMDFhYTllXkEyXkFqcGdeQXVyNTE1NjY5Mg@@._V1_UY98_CR0,0,67,98_AL_.jpg'"
      ]
     },
     "execution_count": 7,
     "metadata": {},
     "output_type": "execute_result"
    }
   ],
   "source": [
    "df[df.description.str.contains('The story of Michelle Payne, the first ')].iloc[0].poster"
   ]
  },
  {
   "cell_type": "code",
   "execution_count": 60,
   "id": "cd7aaa0d",
   "metadata": {},
   "outputs": [
    {
     "data": {
      "text/plain": [
       "Action         300\n",
       "Adventure      259\n",
       "Animation      281\n",
       "Biography      293\n",
       "Comedy         257\n",
       "Crime          297\n",
       "Documentary    288\n",
       "Drama          269\n",
       "Family         274\n",
       "Fantasy        288\n",
       "Film Noir      256\n",
       "History        298\n",
       "Horror         260\n",
       "Music          288\n",
       "Musical        269\n",
       "Mystery        258\n",
       "Romance        260\n",
       "Sci-Fi         272\n",
       "Short Film     234\n",
       "Sport          259\n",
       "Superhero      259\n",
       "Thriller       255\n",
       "War            257\n",
       "Western        278\n",
       "Name: genre, dtype: int64"
      ]
     },
     "execution_count": 60,
     "metadata": {},
     "output_type": "execute_result"
    }
   ],
   "source": [
    "df.genre.value_counts().sort_index()"
   ]
  },
  {
   "cell_type": "code",
   "execution_count": null,
   "id": "a3741af8",
   "metadata": {},
   "outputs": [],
   "source": []
  }
 ],
 "metadata": {
  "kernelspec": {
   "display_name": "Python 3 (ipykernel)",
   "language": "python",
   "name": "python3"
  },
  "language_info": {
   "codemirror_mode": {
    "name": "ipython",
    "version": 3
   },
   "file_extension": ".py",
   "mimetype": "text/x-python",
   "name": "python",
   "nbconvert_exporter": "python",
   "pygments_lexer": "ipython3",
   "version": "3.8.5"
  }
 },
 "nbformat": 4,
 "nbformat_minor": 5
}
